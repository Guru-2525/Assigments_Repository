{
 "cells": [
  {
   "cell_type": "markdown",
   "id": "076f12f2",
   "metadata": {},
   "source": [
    "#                          Decode> 11.0 Hackathon - Board Infinity"
   ]
  },
  {
   "cell_type": "markdown",
   "id": "002f3872",
   "metadata": {},
   "source": [
    "#                      SUPERMARKET STORE SALES DATASET   ."
   ]
  },
  {
   "cell_type": "markdown",
   "id": "f9359ffe",
   "metadata": {},
   "source": [
    "*importing the required libreries*"
   ]
  },
  {
   "cell_type": "code",
   "execution_count": 1,
   "id": "9d43d719",
   "metadata": {},
   "outputs": [],
   "source": [
    "import pandas as pd \n",
    "import numpy as np"
   ]
  },
  {
   "cell_type": "markdown",
   "id": "7bbb9c12",
   "metadata": {},
   "source": [
    "# 1. Describe the Data in your own words"
   ]
  },
  {
   "cell_type": "markdown",
   "id": "5f835092",
   "metadata": {},
   "source": [
    "loading the .CSV file "
   ]
  },
  {
   "cell_type": "code",
   "execution_count": 2,
   "id": "234941b7",
   "metadata": {},
   "outputs": [],
   "source": [
    "data  = pd.read_csv('Dataset.csv')"
   ]
  },
  {
   "cell_type": "markdown",
   "id": "862faf2d",
   "metadata": {},
   "source": [
    "Analysing (Or) Observing the data ."
   ]
  },
  {
   "cell_type": "code",
   "execution_count": 3,
   "id": "bca9a159",
   "metadata": {},
   "outputs": [
    {
     "data": {
      "text/html": [
       "<div>\n",
       "<style scoped>\n",
       "    .dataframe tbody tr th:only-of-type {\n",
       "        vertical-align: middle;\n",
       "    }\n",
       "\n",
       "    .dataframe tbody tr th {\n",
       "        vertical-align: top;\n",
       "    }\n",
       "\n",
       "    .dataframe thead th {\n",
       "        text-align: right;\n",
       "    }\n",
       "</style>\n",
       "<table border=\"1\" class=\"dataframe\">\n",
       "  <thead>\n",
       "    <tr style=\"text-align: right;\">\n",
       "      <th></th>\n",
       "      <th>Invoice ID</th>\n",
       "      <th>Branch</th>\n",
       "      <th>City</th>\n",
       "      <th>Customer type</th>\n",
       "      <th>Gender</th>\n",
       "      <th>Product line</th>\n",
       "      <th>Unit price</th>\n",
       "      <th>Quantity</th>\n",
       "      <th>Tax 5%</th>\n",
       "      <th>Total</th>\n",
       "      <th>Date</th>\n",
       "      <th>Time</th>\n",
       "      <th>Payment</th>\n",
       "      <th>cogs</th>\n",
       "      <th>gross margin percentage</th>\n",
       "      <th>Rating</th>\n",
       "    </tr>\n",
       "  </thead>\n",
       "  <tbody>\n",
       "    <tr>\n",
       "      <th>0</th>\n",
       "      <td>750-67-8428</td>\n",
       "      <td>A</td>\n",
       "      <td>Yangon</td>\n",
       "      <td>Member</td>\n",
       "      <td>Female</td>\n",
       "      <td>Health and beauty</td>\n",
       "      <td>74.69</td>\n",
       "      <td>7</td>\n",
       "      <td>26.1415</td>\n",
       "      <td>548.9715</td>\n",
       "      <td>01-05-19</td>\n",
       "      <td>13:08</td>\n",
       "      <td>Ewallet</td>\n",
       "      <td>522.83</td>\n",
       "      <td>4.761905</td>\n",
       "      <td>9.1</td>\n",
       "    </tr>\n",
       "    <tr>\n",
       "      <th>1</th>\n",
       "      <td>226-31-3081</td>\n",
       "      <td>C</td>\n",
       "      <td>Naypyitaw</td>\n",
       "      <td>Normal</td>\n",
       "      <td>Female</td>\n",
       "      <td>Electronic accessories</td>\n",
       "      <td>15.28</td>\n",
       "      <td>5</td>\n",
       "      <td>3.8200</td>\n",
       "      <td>80.2200</td>\n",
       "      <td>03-08-19</td>\n",
       "      <td>10:29</td>\n",
       "      <td>Cash</td>\n",
       "      <td>76.40</td>\n",
       "      <td>4.761905</td>\n",
       "      <td>9.6</td>\n",
       "    </tr>\n",
       "    <tr>\n",
       "      <th>2</th>\n",
       "      <td>631-41-3108</td>\n",
       "      <td>A</td>\n",
       "      <td>Yangon</td>\n",
       "      <td>Normal</td>\n",
       "      <td>Male</td>\n",
       "      <td>Home and lifestyle</td>\n",
       "      <td>46.33</td>\n",
       "      <td>7</td>\n",
       "      <td>16.2155</td>\n",
       "      <td>340.5255</td>\n",
       "      <td>03-03-19</td>\n",
       "      <td>13:23</td>\n",
       "      <td>Credit card</td>\n",
       "      <td>324.31</td>\n",
       "      <td>4.761905</td>\n",
       "      <td>7.4</td>\n",
       "    </tr>\n",
       "    <tr>\n",
       "      <th>3</th>\n",
       "      <td>123-19-1176</td>\n",
       "      <td>A</td>\n",
       "      <td>Yangon</td>\n",
       "      <td>Member</td>\n",
       "      <td>Male</td>\n",
       "      <td>Health and beauty</td>\n",
       "      <td>58.22</td>\n",
       "      <td>8</td>\n",
       "      <td>23.2880</td>\n",
       "      <td>489.0480</td>\n",
       "      <td>1/27/2019</td>\n",
       "      <td>20:33</td>\n",
       "      <td>Ewallet</td>\n",
       "      <td>465.76</td>\n",
       "      <td>4.761905</td>\n",
       "      <td>8.4</td>\n",
       "    </tr>\n",
       "    <tr>\n",
       "      <th>4</th>\n",
       "      <td>373-73-7910</td>\n",
       "      <td>A</td>\n",
       "      <td>Yangon</td>\n",
       "      <td>Normal</td>\n",
       "      <td>Male</td>\n",
       "      <td>Sports and travel</td>\n",
       "      <td>86.31</td>\n",
       "      <td>7</td>\n",
       "      <td>30.2085</td>\n",
       "      <td>NaN</td>\n",
       "      <td>02-08-19</td>\n",
       "      <td>10:37</td>\n",
       "      <td>Ewallet</td>\n",
       "      <td>604.17</td>\n",
       "      <td>4.761905</td>\n",
       "      <td>5.3</td>\n",
       "    </tr>\n",
       "  </tbody>\n",
       "</table>\n",
       "</div>"
      ],
      "text/plain": [
       "    Invoice ID Branch       City Customer type  Gender  \\\n",
       "0  750-67-8428      A     Yangon        Member  Female   \n",
       "1  226-31-3081      C  Naypyitaw        Normal  Female   \n",
       "2  631-41-3108      A     Yangon        Normal    Male   \n",
       "3  123-19-1176      A     Yangon        Member    Male   \n",
       "4  373-73-7910      A     Yangon        Normal    Male   \n",
       "\n",
       "             Product line  Unit price  Quantity   Tax 5%     Total       Date  \\\n",
       "0       Health and beauty       74.69         7  26.1415  548.9715   01-05-19   \n",
       "1  Electronic accessories       15.28         5   3.8200   80.2200   03-08-19   \n",
       "2      Home and lifestyle       46.33         7  16.2155  340.5255   03-03-19   \n",
       "3       Health and beauty       58.22         8  23.2880  489.0480  1/27/2019   \n",
       "4       Sports and travel       86.31         7  30.2085       NaN   02-08-19   \n",
       "\n",
       "    Time      Payment    cogs  gross margin percentage  Rating  \n",
       "0  13:08      Ewallet  522.83                 4.761905     9.1  \n",
       "1  10:29         Cash   76.40                 4.761905     9.6  \n",
       "2  13:23  Credit card  324.31                 4.761905     7.4  \n",
       "3  20:33      Ewallet  465.76                 4.761905     8.4  \n",
       "4  10:37      Ewallet  604.17                 4.761905     5.3  "
      ]
     },
     "execution_count": 3,
     "metadata": {},
     "output_type": "execute_result"
    }
   ],
   "source": [
    "data.head()"
   ]
  },
  {
   "cell_type": "code",
   "execution_count": 4,
   "id": "8de6945b",
   "metadata": {},
   "outputs": [
    {
     "data": {
      "text/html": [
       "<div>\n",
       "<style scoped>\n",
       "    .dataframe tbody tr th:only-of-type {\n",
       "        vertical-align: middle;\n",
       "    }\n",
       "\n",
       "    .dataframe tbody tr th {\n",
       "        vertical-align: top;\n",
       "    }\n",
       "\n",
       "    .dataframe thead th {\n",
       "        text-align: right;\n",
       "    }\n",
       "</style>\n",
       "<table border=\"1\" class=\"dataframe\">\n",
       "  <thead>\n",
       "    <tr style=\"text-align: right;\">\n",
       "      <th></th>\n",
       "      <th>Unit price</th>\n",
       "      <th>Quantity</th>\n",
       "      <th>Tax 5%</th>\n",
       "      <th>Total</th>\n",
       "      <th>cogs</th>\n",
       "      <th>gross margin percentage</th>\n",
       "      <th>Rating</th>\n",
       "    </tr>\n",
       "  </thead>\n",
       "  <tbody>\n",
       "    <tr>\n",
       "      <th>count</th>\n",
       "      <td>1000.000000</td>\n",
       "      <td>1000.000000</td>\n",
       "      <td>1000.000000</td>\n",
       "      <td>878.000000</td>\n",
       "      <td>1000.00000</td>\n",
       "      <td>1.000000e+03</td>\n",
       "      <td>1000.00000</td>\n",
       "    </tr>\n",
       "    <tr>\n",
       "      <th>mean</th>\n",
       "      <td>55.672130</td>\n",
       "      <td>5.510000</td>\n",
       "      <td>15.379369</td>\n",
       "      <td>316.011791</td>\n",
       "      <td>307.58738</td>\n",
       "      <td>4.761905e+00</td>\n",
       "      <td>6.97270</td>\n",
       "    </tr>\n",
       "    <tr>\n",
       "      <th>std</th>\n",
       "      <td>26.494628</td>\n",
       "      <td>2.923431</td>\n",
       "      <td>11.708825</td>\n",
       "      <td>243.243460</td>\n",
       "      <td>234.17651</td>\n",
       "      <td>6.131498e-14</td>\n",
       "      <td>1.71858</td>\n",
       "    </tr>\n",
       "    <tr>\n",
       "      <th>min</th>\n",
       "      <td>10.080000</td>\n",
       "      <td>1.000000</td>\n",
       "      <td>0.508500</td>\n",
       "      <td>10.678500</td>\n",
       "      <td>10.17000</td>\n",
       "      <td>4.761905e+00</td>\n",
       "      <td>4.00000</td>\n",
       "    </tr>\n",
       "    <tr>\n",
       "      <th>25%</th>\n",
       "      <td>32.875000</td>\n",
       "      <td>3.000000</td>\n",
       "      <td>5.924875</td>\n",
       "      <td>118.413750</td>\n",
       "      <td>118.49750</td>\n",
       "      <td>4.761905e+00</td>\n",
       "      <td>5.50000</td>\n",
       "    </tr>\n",
       "    <tr>\n",
       "      <th>50%</th>\n",
       "      <td>55.230000</td>\n",
       "      <td>5.000000</td>\n",
       "      <td>12.088000</td>\n",
       "      <td>245.358750</td>\n",
       "      <td>241.76000</td>\n",
       "      <td>4.761905e+00</td>\n",
       "      <td>7.00000</td>\n",
       "    </tr>\n",
       "    <tr>\n",
       "      <th>75%</th>\n",
       "      <td>77.935000</td>\n",
       "      <td>8.000000</td>\n",
       "      <td>22.445250</td>\n",
       "      <td>470.447250</td>\n",
       "      <td>448.90500</td>\n",
       "      <td>4.761905e+00</td>\n",
       "      <td>8.50000</td>\n",
       "    </tr>\n",
       "    <tr>\n",
       "      <th>max</th>\n",
       "      <td>99.960000</td>\n",
       "      <td>10.000000</td>\n",
       "      <td>49.650000</td>\n",
       "      <td>1042.650000</td>\n",
       "      <td>993.00000</td>\n",
       "      <td>4.761905e+00</td>\n",
       "      <td>10.00000</td>\n",
       "    </tr>\n",
       "  </tbody>\n",
       "</table>\n",
       "</div>"
      ],
      "text/plain": [
       "        Unit price     Quantity       Tax 5%        Total        cogs  \\\n",
       "count  1000.000000  1000.000000  1000.000000   878.000000  1000.00000   \n",
       "mean     55.672130     5.510000    15.379369   316.011791   307.58738   \n",
       "std      26.494628     2.923431    11.708825   243.243460   234.17651   \n",
       "min      10.080000     1.000000     0.508500    10.678500    10.17000   \n",
       "25%      32.875000     3.000000     5.924875   118.413750   118.49750   \n",
       "50%      55.230000     5.000000    12.088000   245.358750   241.76000   \n",
       "75%      77.935000     8.000000    22.445250   470.447250   448.90500   \n",
       "max      99.960000    10.000000    49.650000  1042.650000   993.00000   \n",
       "\n",
       "       gross margin percentage      Rating  \n",
       "count             1.000000e+03  1000.00000  \n",
       "mean              4.761905e+00     6.97270  \n",
       "std               6.131498e-14     1.71858  \n",
       "min               4.761905e+00     4.00000  \n",
       "25%               4.761905e+00     5.50000  \n",
       "50%               4.761905e+00     7.00000  \n",
       "75%               4.761905e+00     8.50000  \n",
       "max               4.761905e+00    10.00000  "
      ]
     },
     "execution_count": 4,
     "metadata": {},
     "output_type": "execute_result"
    }
   ],
   "source": [
    "data.describe()"
   ]
  },
  {
   "cell_type": "code",
   "execution_count": 38,
   "id": "85757766",
   "metadata": {},
   "outputs": [
    {
     "name": "stdout",
     "output_type": "stream",
     "text": [
      "<class 'pandas.core.frame.DataFrame'>\n",
      "RangeIndex: 1000 entries, 0 to 999\n",
      "Data columns (total 17 columns):\n",
      " #   Column                   Non-Null Count  Dtype  \n",
      "---  ------                   --------------  -----  \n",
      " 0   Invoice ID               1000 non-null   object \n",
      " 1   Branch                   1000 non-null   object \n",
      " 2   City                     1000 non-null   object \n",
      " 3   Customer type            1000 non-null   object \n",
      " 4   Gender                   1000 non-null   object \n",
      " 5   Product line             1000 non-null   object \n",
      " 6   Unit price               1000 non-null   float64\n",
      " 7   Quantity                 1000 non-null   int64  \n",
      " 8   Tax 5%                   1000 non-null   float64\n",
      " 9   Total                    1000 non-null   float64\n",
      " 10  Date                     1000 non-null   object \n",
      " 11  Time                     1000 non-null   object \n",
      " 12  Payment                  1000 non-null   object \n",
      " 13  cogs                     1000 non-null   float64\n",
      " 14  gross margin percentage  1000 non-null   float64\n",
      " 15  Rating                   1000 non-null   float64\n",
      " 16  date time                1000 non-null   object \n",
      "dtypes: float64(6), int64(1), object(10)\n",
      "memory usage: 132.9+ KB\n"
     ]
    }
   ],
   "source": [
    "data.info()"
   ]
  },
  {
   "cell_type": "markdown",
   "id": "7b100871",
   "metadata": {},
   "source": [
    "**The given data conains total 16 fields in that :\n",
    "=> 9 are object datatype(categorical)\n",
    "=> 6 are float datatype (numerical)\n",
    "=> 1 is int datatype    (numerical)\n",
    "**\"Total\" column contains only 878 values means it contains some null values in numerical data .\n"
   ]
  },
  {
   "cell_type": "markdown",
   "id": "b81c9715",
   "metadata": {},
   "source": [
    "# 2. Check Datatypes of each column and Bring Date time together in one column"
   ]
  },
  {
   "cell_type": "code",
   "execution_count": 5,
   "id": "4506bfce",
   "metadata": {},
   "outputs": [
    {
     "name": "stdout",
     "output_type": "stream",
     "text": [
      "<class 'pandas.core.frame.DataFrame'>\n",
      "RangeIndex: 1000 entries, 0 to 999\n",
      "Data columns (total 16 columns):\n",
      " #   Column                   Non-Null Count  Dtype  \n",
      "---  ------                   --------------  -----  \n",
      " 0   Invoice ID               1000 non-null   object \n",
      " 1   Branch                   1000 non-null   object \n",
      " 2   City                     1000 non-null   object \n",
      " 3   Customer type            1000 non-null   object \n",
      " 4   Gender                   1000 non-null   object \n",
      " 5   Product line             1000 non-null   object \n",
      " 6   Unit price               1000 non-null   float64\n",
      " 7   Quantity                 1000 non-null   int64  \n",
      " 8   Tax 5%                   1000 non-null   float64\n",
      " 9   Total                    878 non-null    float64\n",
      " 10  Date                     1000 non-null   object \n",
      " 11  Time                     1000 non-null   object \n",
      " 12  Payment                  950 non-null    object \n",
      " 13  cogs                     1000 non-null   float64\n",
      " 14  gross margin percentage  1000 non-null   float64\n",
      " 15  Rating                   1000 non-null   float64\n",
      "dtypes: float64(6), int64(1), object(9)\n",
      "memory usage: 125.1+ KB\n"
     ]
    }
   ],
   "source": [
    "data.info()"
   ]
  },
  {
   "cell_type": "code",
   "execution_count": null,
   "id": "a673da17",
   "metadata": {},
   "outputs": [],
   "source": []
  },
  {
   "cell_type": "markdown",
   "id": "d80cbf4a",
   "metadata": {},
   "source": [
    "Combining the date and time columns into one  \"date time\" column ."
   ]
  },
  {
   "cell_type": "code",
   "execution_count": 6,
   "id": "f3c1e153",
   "metadata": {},
   "outputs": [],
   "source": [
    "data[\"date time\"] = (data[\"Date\"] +\" \" + data[\"Time\"])"
   ]
  },
  {
   "cell_type": "code",
   "execution_count": 7,
   "id": "6e796ff7",
   "metadata": {},
   "outputs": [
    {
     "data": {
      "text/html": [
       "<div>\n",
       "<style scoped>\n",
       "    .dataframe tbody tr th:only-of-type {\n",
       "        vertical-align: middle;\n",
       "    }\n",
       "\n",
       "    .dataframe tbody tr th {\n",
       "        vertical-align: top;\n",
       "    }\n",
       "\n",
       "    .dataframe thead th {\n",
       "        text-align: right;\n",
       "    }\n",
       "</style>\n",
       "<table border=\"1\" class=\"dataframe\">\n",
       "  <thead>\n",
       "    <tr style=\"text-align: right;\">\n",
       "      <th></th>\n",
       "      <th>Invoice ID</th>\n",
       "      <th>Branch</th>\n",
       "      <th>City</th>\n",
       "      <th>Customer type</th>\n",
       "      <th>Gender</th>\n",
       "      <th>Product line</th>\n",
       "      <th>Unit price</th>\n",
       "      <th>Quantity</th>\n",
       "      <th>Tax 5%</th>\n",
       "      <th>Total</th>\n",
       "      <th>Date</th>\n",
       "      <th>Time</th>\n",
       "      <th>Payment</th>\n",
       "      <th>cogs</th>\n",
       "      <th>gross margin percentage</th>\n",
       "      <th>Rating</th>\n",
       "      <th>date time</th>\n",
       "    </tr>\n",
       "  </thead>\n",
       "  <tbody>\n",
       "    <tr>\n",
       "      <th>0</th>\n",
       "      <td>750-67-8428</td>\n",
       "      <td>A</td>\n",
       "      <td>Yangon</td>\n",
       "      <td>Member</td>\n",
       "      <td>Female</td>\n",
       "      <td>Health and beauty</td>\n",
       "      <td>74.69</td>\n",
       "      <td>7</td>\n",
       "      <td>26.1415</td>\n",
       "      <td>548.9715</td>\n",
       "      <td>01-05-19</td>\n",
       "      <td>13:08</td>\n",
       "      <td>Ewallet</td>\n",
       "      <td>522.83</td>\n",
       "      <td>4.761905</td>\n",
       "      <td>9.1</td>\n",
       "      <td>01-05-19 13:08</td>\n",
       "    </tr>\n",
       "    <tr>\n",
       "      <th>1</th>\n",
       "      <td>226-31-3081</td>\n",
       "      <td>C</td>\n",
       "      <td>Naypyitaw</td>\n",
       "      <td>Normal</td>\n",
       "      <td>Female</td>\n",
       "      <td>Electronic accessories</td>\n",
       "      <td>15.28</td>\n",
       "      <td>5</td>\n",
       "      <td>3.8200</td>\n",
       "      <td>80.2200</td>\n",
       "      <td>03-08-19</td>\n",
       "      <td>10:29</td>\n",
       "      <td>Cash</td>\n",
       "      <td>76.40</td>\n",
       "      <td>4.761905</td>\n",
       "      <td>9.6</td>\n",
       "      <td>03-08-19 10:29</td>\n",
       "    </tr>\n",
       "    <tr>\n",
       "      <th>2</th>\n",
       "      <td>631-41-3108</td>\n",
       "      <td>A</td>\n",
       "      <td>Yangon</td>\n",
       "      <td>Normal</td>\n",
       "      <td>Male</td>\n",
       "      <td>Home and lifestyle</td>\n",
       "      <td>46.33</td>\n",
       "      <td>7</td>\n",
       "      <td>16.2155</td>\n",
       "      <td>340.5255</td>\n",
       "      <td>03-03-19</td>\n",
       "      <td>13:23</td>\n",
       "      <td>Credit card</td>\n",
       "      <td>324.31</td>\n",
       "      <td>4.761905</td>\n",
       "      <td>7.4</td>\n",
       "      <td>03-03-19 13:23</td>\n",
       "    </tr>\n",
       "    <tr>\n",
       "      <th>3</th>\n",
       "      <td>123-19-1176</td>\n",
       "      <td>A</td>\n",
       "      <td>Yangon</td>\n",
       "      <td>Member</td>\n",
       "      <td>Male</td>\n",
       "      <td>Health and beauty</td>\n",
       "      <td>58.22</td>\n",
       "      <td>8</td>\n",
       "      <td>23.2880</td>\n",
       "      <td>489.0480</td>\n",
       "      <td>1/27/2019</td>\n",
       "      <td>20:33</td>\n",
       "      <td>Ewallet</td>\n",
       "      <td>465.76</td>\n",
       "      <td>4.761905</td>\n",
       "      <td>8.4</td>\n",
       "      <td>1/27/2019 20:33</td>\n",
       "    </tr>\n",
       "    <tr>\n",
       "      <th>4</th>\n",
       "      <td>373-73-7910</td>\n",
       "      <td>A</td>\n",
       "      <td>Yangon</td>\n",
       "      <td>Normal</td>\n",
       "      <td>Male</td>\n",
       "      <td>Sports and travel</td>\n",
       "      <td>86.31</td>\n",
       "      <td>7</td>\n",
       "      <td>30.2085</td>\n",
       "      <td>NaN</td>\n",
       "      <td>02-08-19</td>\n",
       "      <td>10:37</td>\n",
       "      <td>Ewallet</td>\n",
       "      <td>604.17</td>\n",
       "      <td>4.761905</td>\n",
       "      <td>5.3</td>\n",
       "      <td>02-08-19 10:37</td>\n",
       "    </tr>\n",
       "  </tbody>\n",
       "</table>\n",
       "</div>"
      ],
      "text/plain": [
       "    Invoice ID Branch       City Customer type  Gender  \\\n",
       "0  750-67-8428      A     Yangon        Member  Female   \n",
       "1  226-31-3081      C  Naypyitaw        Normal  Female   \n",
       "2  631-41-3108      A     Yangon        Normal    Male   \n",
       "3  123-19-1176      A     Yangon        Member    Male   \n",
       "4  373-73-7910      A     Yangon        Normal    Male   \n",
       "\n",
       "             Product line  Unit price  Quantity   Tax 5%     Total       Date  \\\n",
       "0       Health and beauty       74.69         7  26.1415  548.9715   01-05-19   \n",
       "1  Electronic accessories       15.28         5   3.8200   80.2200   03-08-19   \n",
       "2      Home and lifestyle       46.33         7  16.2155  340.5255   03-03-19   \n",
       "3       Health and beauty       58.22         8  23.2880  489.0480  1/27/2019   \n",
       "4       Sports and travel       86.31         7  30.2085       NaN   02-08-19   \n",
       "\n",
       "    Time      Payment    cogs  gross margin percentage  Rating  \\\n",
       "0  13:08      Ewallet  522.83                 4.761905     9.1   \n",
       "1  10:29         Cash   76.40                 4.761905     9.6   \n",
       "2  13:23  Credit card  324.31                 4.761905     7.4   \n",
       "3  20:33      Ewallet  465.76                 4.761905     8.4   \n",
       "4  10:37      Ewallet  604.17                 4.761905     5.3   \n",
       "\n",
       "         date time  \n",
       "0   01-05-19 13:08  \n",
       "1   03-08-19 10:29  \n",
       "2   03-03-19 13:23  \n",
       "3  1/27/2019 20:33  \n",
       "4   02-08-19 10:37  "
      ]
     },
     "execution_count": 7,
     "metadata": {},
     "output_type": "execute_result"
    }
   ],
   "source": [
    "data.head()"
   ]
  },
  {
   "cell_type": "markdown",
   "id": "253a3443",
   "metadata": {},
   "source": [
    "# 3. Find the Null Values and Treat them Appropriately."
   ]
  },
  {
   "cell_type": "code",
   "execution_count": 8,
   "id": "52c1c4c0",
   "metadata": {},
   "outputs": [
    {
     "data": {
      "text/plain": [
       "Invoice ID                   0\n",
       "Branch                       0\n",
       "City                         0\n",
       "Customer type                0\n",
       "Gender                       0\n",
       "Product line                 0\n",
       "Unit price                   0\n",
       "Quantity                     0\n",
       "Tax 5%                       0\n",
       "Total                      122\n",
       "Date                         0\n",
       "Time                         0\n",
       "Payment                     50\n",
       "cogs                         0\n",
       "gross margin percentage      0\n",
       "Rating                       0\n",
       "date time                    0\n",
       "dtype: int64"
      ]
     },
     "execution_count": 8,
     "metadata": {},
     "output_type": "execute_result"
    }
   ],
   "source": [
    "data.isna().sum()"
   ]
  },
  {
   "cell_type": "code",
   "execution_count": 30,
   "id": "866f6e44",
   "metadata": {},
   "outputs": [],
   "source": [
    "# here we can observe that the data contains null values in column [\"Total\",\"Payment\"]\n",
    "# \"Total\"   - 122\n",
    "# \"Payment\" -  50\n",
    "# To fill those null values we are doing the below to steps "
   ]
  },
  {
   "cell_type": "code",
   "execution_count": 9,
   "id": "975f018f",
   "metadata": {},
   "outputs": [],
   "source": [
    "data[\"Total\"].fillna((data[\"Unit price\"] * data[\"Quantity\"]) + data[\"Tax 5%\"] ,inplace= True)"
   ]
  },
  {
   "cell_type": "code",
   "execution_count": 10,
   "id": "5416eb28",
   "metadata": {},
   "outputs": [],
   "source": [
    "data[\"Payment\"].fillna(method = \"Pad\",inplace=True)"
   ]
  },
  {
   "cell_type": "code",
   "execution_count": 11,
   "id": "e76cf868",
   "metadata": {},
   "outputs": [
    {
     "data": {
      "text/plain": [
       "Invoice ID                 0\n",
       "Branch                     0\n",
       "City                       0\n",
       "Customer type              0\n",
       "Gender                     0\n",
       "Product line               0\n",
       "Unit price                 0\n",
       "Quantity                   0\n",
       "Tax 5%                     0\n",
       "Total                      0\n",
       "Date                       0\n",
       "Time                       0\n",
       "Payment                    0\n",
       "cogs                       0\n",
       "gross margin percentage    0\n",
       "Rating                     0\n",
       "date time                  0\n",
       "dtype: int64"
      ]
     },
     "execution_count": 11,
     "metadata": {},
     "output_type": "execute_result"
    }
   ],
   "source": [
    "data.isna().sum()"
   ]
  },
  {
   "cell_type": "code",
   "execution_count": null,
   "id": "30af5bf8",
   "metadata": {},
   "outputs": [],
   "source": []
  },
  {
   "cell_type": "markdown",
   "id": "f5f14965",
   "metadata": {},
   "source": [
    " Here  we can see that there are no null values exist anymore ."
   ]
  },
  {
   "cell_type": "code",
   "execution_count": null,
   "id": "dda57b17",
   "metadata": {},
   "outputs": [],
   "source": []
  },
  {
   "cell_type": "markdown",
   "id": "d49f38b0",
   "metadata": {},
   "source": [
    "# 4. Count the No. of Branches and Cities."
   ]
  },
  {
   "cell_type": "code",
   "execution_count": 32,
   "id": "bee3eb64",
   "metadata": {},
   "outputs": [
    {
     "name": "stdout",
     "output_type": "stream",
     "text": [
      "No of Branches  3\n",
      "No of Cities    3\n"
     ]
    }
   ],
   "source": [
    "print(\"No of Branches \",data[\"Branch\"].nunique())\n",
    "print(\"No of Cities   \", data[\"City\"].nunique())"
   ]
  },
  {
   "cell_type": "code",
   "execution_count": 35,
   "id": "46db6dc2",
   "metadata": {},
   "outputs": [
    {
     "name": "stdout",
     "output_type": "stream",
     "text": [
      "['A' 'C' 'B'] ['Yangon' 'Naypyitaw' 'Mandalay']\n"
     ]
    }
   ],
   "source": [
    "print(data[\"Branch\"].unique(),data[\"City\"].unique())"
   ]
  },
  {
   "cell_type": "code",
   "execution_count": null,
   "id": "32f95408",
   "metadata": {},
   "outputs": [],
   "source": [
    "#here we can say that there are 3 cities and 3 branches \n",
    "#Branch \"A\" is in \"Yangon\"\n",
    "#Branch \"B\" is in  \"Mandalay\"\n",
    "#Branch \"C\" is in  \"Naypyitaw\""
   ]
  },
  {
   "cell_type": "markdown",
   "id": "01896d69",
   "metadata": {},
   "source": [
    "# 5. Create a pie chart of gender."
   ]
  },
  {
   "cell_type": "code",
   "execution_count": 13,
   "id": "cb7abd4e",
   "metadata": {},
   "outputs": [
    {
     "data": {
      "text/plain": [
       "Text(0.5, 1.0, 'Gender count')"
      ]
     },
     "execution_count": 13,
     "metadata": {},
     "output_type": "execute_result"
    },
    {
     "data": {
      "image/png": "[encoded data removed]",
      "text/plain": [
       "<Figure size 432x288 with 1 Axes>"
      ]
     },
     "metadata": {},
     "output_type": "display_data"
    }
   ],
   "source": [
    "pie_chart = data[\"Gender\"].value_counts().plot(kind=\"pie\")\n",
    "pie_chart.set_title (\"Gender count\")\n"
   ]
  },
  {
   "cell_type": "code",
   "execution_count": null,
   "id": "5a658b3a",
   "metadata": {},
   "outputs": [],
   "source": []
  },
  {
   "cell_type": "markdown",
   "id": "1481c2d1",
   "metadata": {},
   "source": [
    "# 6. Calculate Average Rating for each product line."
   ]
  },
  {
   "cell_type": "code",
   "execution_count": 14,
   "id": "3226f6ec",
   "metadata": {},
   "outputs": [],
   "source": [
    "unique_prod_line= data.groupby([\"Product line\"])\n",
    "avg_rating = unique_prod_line.aggregate({\"Rating\":np.mean})"
   ]
  },
  {
   "cell_type": "code",
   "execution_count": 15,
   "id": "03a38817",
   "metadata": {},
   "outputs": [
    {
     "data": {
      "text/html": [
       "<div>\n",
       "<style scoped>\n",
       "    .dataframe tbody tr th:only-of-type {\n",
       "        vertical-align: middle;\n",
       "    }\n",
       "\n",
       "    .dataframe tbody tr th {\n",
       "        vertical-align: top;\n",
       "    }\n",
       "\n",
       "    .dataframe thead th {\n",
       "        text-align: right;\n",
       "    }\n",
       "</style>\n",
       "<table border=\"1\" class=\"dataframe\">\n",
       "  <thead>\n",
       "    <tr style=\"text-align: right;\">\n",
       "      <th></th>\n",
       "      <th>Rating</th>\n",
       "    </tr>\n",
       "    <tr>\n",
       "      <th>Product line</th>\n",
       "      <th></th>\n",
       "    </tr>\n",
       "  </thead>\n",
       "  <tbody>\n",
       "    <tr>\n",
       "      <th>Electronic accessories</th>\n",
       "      <td>6.924706</td>\n",
       "    </tr>\n",
       "    <tr>\n",
       "      <th>Fashion accessories</th>\n",
       "      <td>7.029213</td>\n",
       "    </tr>\n",
       "    <tr>\n",
       "      <th>Food and beverages</th>\n",
       "      <td>7.113218</td>\n",
       "    </tr>\n",
       "    <tr>\n",
       "      <th>Health and beauty</th>\n",
       "      <td>7.003289</td>\n",
       "    </tr>\n",
       "    <tr>\n",
       "      <th>Home and lifestyle</th>\n",
       "      <td>6.837500</td>\n",
       "    </tr>\n",
       "    <tr>\n",
       "      <th>Sports and travel</th>\n",
       "      <td>6.916265</td>\n",
       "    </tr>\n",
       "  </tbody>\n",
       "</table>\n",
       "</div>"
      ],
      "text/plain": [
       "                          Rating\n",
       "Product line                    \n",
       "Electronic accessories  6.924706\n",
       "Fashion accessories     7.029213\n",
       "Food and beverages      7.113218\n",
       "Health and beauty       7.003289\n",
       "Home and lifestyle      6.837500\n",
       "Sports and travel       6.916265"
      ]
     },
     "execution_count": 15,
     "metadata": {},
     "output_type": "execute_result"
    }
   ],
   "source": [
    "avg_rating"
   ]
  },
  {
   "cell_type": "markdown",
   "id": "f086ac9e",
   "metadata": {},
   "source": [
    "# 7. No. of products sold  in each category ."
   ]
  },
  {
   "cell_type": "code",
   "execution_count": 16,
   "id": "55571f21",
   "metadata": {},
   "outputs": [
    {
     "data": {
      "text/plain": [
       "Fashion accessories       178\n",
       "Food and beverages        174\n",
       "Electronic accessories    170\n",
       "Sports and travel         166\n",
       "Home and lifestyle        160\n",
       "Health and beauty         152\n",
       "Name: Product line, dtype: int64"
      ]
     },
     "execution_count": 16,
     "metadata": {},
     "output_type": "execute_result"
    }
   ],
   "source": [
    "data[\"Product line\"].value_counts()"
   ]
  },
  {
   "cell_type": "code",
   "execution_count": 17,
   "id": "f6efedf0",
   "metadata": {},
   "outputs": [
    {
     "data": {
      "text/plain": [
       "<AxesSubplot:>"
      ]
     },
     "execution_count": 17,
     "metadata": {},
     "output_type": "execute_result"
    },
    {
     "data": {
      "image/png": "[encoded data removed]",
      "text/plain": [
       "<Figure size 432x288 with 1 Axes>"
      ]
     },
     "metadata": {
      "needs_background": "light"
     },
     "output_type": "display_data"
    }
   ],
   "source": [
    "data[\"Product line\"].value_counts().plot(kind=\"bar\")"
   ]
  },
  {
   "cell_type": "code",
   "execution_count": null,
   "id": "4f77e738",
   "metadata": {},
   "outputs": [],
   "source": []
  },
  {
   "cell_type": "markdown",
   "id": "a77e2900",
   "metadata": {},
   "source": [
    "# 8. Total Amount collected in each product line"
   ]
  },
  {
   "cell_type": "code",
   "execution_count": 18,
   "id": "42fb634e",
   "metadata": {},
   "outputs": [],
   "source": [
    "unique_prod_line = data.groupby([\"Product line\"])\n",
    "Total_amount = unique_prod_line.aggregate({\"Total\":np.sum})"
   ]
  },
  {
   "cell_type": "code",
   "execution_count": 19,
   "id": "71189c6d",
   "metadata": {},
   "outputs": [
    {
     "data": {
      "text/html": [
       "<div>\n",
       "<style scoped>\n",
       "    .dataframe tbody tr th:only-of-type {\n",
       "        vertical-align: middle;\n",
       "    }\n",
       "\n",
       "    .dataframe tbody tr th {\n",
       "        vertical-align: top;\n",
       "    }\n",
       "\n",
       "    .dataframe thead th {\n",
       "        text-align: right;\n",
       "    }\n",
       "</style>\n",
       "<table border=\"1\" class=\"dataframe\">\n",
       "  <thead>\n",
       "    <tr style=\"text-align: right;\">\n",
       "      <th></th>\n",
       "      <th>Total</th>\n",
       "    </tr>\n",
       "    <tr>\n",
       "      <th>Product line</th>\n",
       "      <th></th>\n",
       "    </tr>\n",
       "  </thead>\n",
       "  <tbody>\n",
       "    <tr>\n",
       "      <th>Electronic accessories</th>\n",
       "      <td>54337.53</td>\n",
       "    </tr>\n",
       "    <tr>\n",
       "      <th>Fashion accessories</th>\n",
       "      <td>54305.90</td>\n",
       "    </tr>\n",
       "    <tr>\n",
       "      <th>Food and beverages</th>\n",
       "      <td>56144.84</td>\n",
       "    </tr>\n",
       "    <tr>\n",
       "      <th>Health and beauty</th>\n",
       "      <td>49193.74</td>\n",
       "    </tr>\n",
       "    <tr>\n",
       "      <th>Home and lifestyle</th>\n",
       "      <td>53861.91</td>\n",
       "    </tr>\n",
       "    <tr>\n",
       "      <th>Sports and travel</th>\n",
       "      <td>55122.83</td>\n",
       "    </tr>\n",
       "  </tbody>\n",
       "</table>\n",
       "</div>"
      ],
      "text/plain": [
       "                           Total\n",
       "Product line                    \n",
       "Electronic accessories  54337.53\n",
       "Fashion accessories     54305.90\n",
       "Food and beverages      56144.84\n",
       "Health and beauty       49193.74\n",
       "Home and lifestyle      53861.91\n",
       "Sports and travel       55122.83"
      ]
     },
     "execution_count": 19,
     "metadata": {},
     "output_type": "execute_result"
    }
   ],
   "source": [
    "round(Total_amount,2)"
   ]
  },
  {
   "cell_type": "markdown",
   "id": "411bd13f",
   "metadata": {},
   "source": [
    "# 9. Find out highest percentage of payment method"
   ]
  },
  {
   "cell_type": "code",
   "execution_count": 20,
   "id": "75c44fd3",
   "metadata": {},
   "outputs": [
    {
     "data": {
      "text/plain": [
       "(1000, 17)"
      ]
     },
     "execution_count": 20,
     "metadata": {},
     "output_type": "execute_result"
    }
   ],
   "source": [
    "data.shape"
   ]
  },
  {
   "cell_type": "code",
   "execution_count": 21,
   "id": "417d72d4",
   "metadata": {},
   "outputs": [
    {
     "data": {
      "text/plain": [
       "Cash           34.6\n",
       "Ewallet        34.1\n",
       "Credit card    31.3\n",
       "Name: Payment, dtype: float64"
      ]
     },
     "execution_count": 21,
     "metadata": {},
     "output_type": "execute_result"
    }
   ],
   "source": [
    "percentage = data[\"Payment\"].value_counts()/1000*100\n",
    "percentage\n"
   ]
  },
  {
   "cell_type": "code",
   "execution_count": 22,
   "id": "25eadbe6",
   "metadata": {},
   "outputs": [
    {
     "data": {
      "text/plain": [
       "Text(0.5, 1.0, 'Payment_method')"
      ]
     },
     "execution_count": 22,
     "metadata": {},
     "output_type": "execute_result"
    },
    {
     "data": {
      "image/png": "[encoded data removed]",
      "text/plain": [
       "<Figure size 432x288 with 1 Axes>"
      ]
     },
     "metadata": {
      "needs_background": "light"
     },
     "output_type": "display_data"
    }
   ],
   "source": [
    "bar_chart = data[\"Payment\"].value_counts().plot(kind=\"line\")\n",
    "bar_chart.set_title (\"Payment_method\")\n"
   ]
  },
  {
   "cell_type": "markdown",
   "id": "fed7932a",
   "metadata": {},
   "source": [
    "# 10. Find out the category with highest Rating."
   ]
  },
  {
   "cell_type": "code",
   "execution_count": 23,
   "id": "ee7e8ad2",
   "metadata": {},
   "outputs": [
    {
     "data": {
      "text/html": [
       "<div>\n",
       "<style scoped>\n",
       "    .dataframe tbody tr th:only-of-type {\n",
       "        vertical-align: middle;\n",
       "    }\n",
       "\n",
       "    .dataframe tbody tr th {\n",
       "        vertical-align: top;\n",
       "    }\n",
       "\n",
       "    .dataframe thead th {\n",
       "        text-align: right;\n",
       "    }\n",
       "</style>\n",
       "<table border=\"1\" class=\"dataframe\">\n",
       "  <thead>\n",
       "    <tr style=\"text-align: right;\">\n",
       "      <th></th>\n",
       "      <th>Rating</th>\n",
       "    </tr>\n",
       "    <tr>\n",
       "      <th>Product line</th>\n",
       "      <th></th>\n",
       "    </tr>\n",
       "  </thead>\n",
       "  <tbody>\n",
       "    <tr>\n",
       "      <th>Electronic accessories</th>\n",
       "      <td>6.924706</td>\n",
       "    </tr>\n",
       "    <tr>\n",
       "      <th>Fashion accessories</th>\n",
       "      <td>7.029213</td>\n",
       "    </tr>\n",
       "    <tr>\n",
       "      <th>Food and beverages</th>\n",
       "      <td>7.113218</td>\n",
       "    </tr>\n",
       "    <tr>\n",
       "      <th>Health and beauty</th>\n",
       "      <td>7.003289</td>\n",
       "    </tr>\n",
       "    <tr>\n",
       "      <th>Home and lifestyle</th>\n",
       "      <td>6.837500</td>\n",
       "    </tr>\n",
       "    <tr>\n",
       "      <th>Sports and travel</th>\n",
       "      <td>6.916265</td>\n",
       "    </tr>\n",
       "  </tbody>\n",
       "</table>\n",
       "</div>"
      ],
      "text/plain": [
       "                          Rating\n",
       "Product line                    \n",
       "Electronic accessories  6.924706\n",
       "Fashion accessories     7.029213\n",
       "Food and beverages      7.113218\n",
       "Health and beauty       7.003289\n",
       "Home and lifestyle      6.837500\n",
       "Sports and travel       6.916265"
      ]
     },
     "execution_count": 23,
     "metadata": {},
     "output_type": "execute_result"
    }
   ],
   "source": [
    "unique_prod_line= data.groupby([\"Product line\"])\n",
    "avg_rating = unique_prod_line.aggregate({\"Rating\":np.mean})\n",
    "avg_rating\n"
   ]
  },
  {
   "cell_type": "code",
   "execution_count": null,
   "id": "ccf3e423",
   "metadata": {},
   "outputs": [],
   "source": []
  },
  {
   "cell_type": "code",
   "execution_count": 24,
   "id": "fb670cde",
   "metadata": {},
   "outputs": [
    {
     "data": {
      "text/html": [
       "<div>\n",
       "<style scoped>\n",
       "    .dataframe tbody tr th:only-of-type {\n",
       "        vertical-align: middle;\n",
       "    }\n",
       "\n",
       "    .dataframe tbody tr th {\n",
       "        vertical-align: top;\n",
       "    }\n",
       "\n",
       "    .dataframe thead th {\n",
       "        text-align: right;\n",
       "    }\n",
       "</style>\n",
       "<table border=\"1\" class=\"dataframe\">\n",
       "  <thead>\n",
       "    <tr style=\"text-align: right;\">\n",
       "      <th></th>\n",
       "      <th>Rating</th>\n",
       "    </tr>\n",
       "    <tr>\n",
       "      <th>Product line</th>\n",
       "      <th></th>\n",
       "    </tr>\n",
       "  </thead>\n",
       "  <tbody>\n",
       "    <tr>\n",
       "      <th>Electronic accessories</th>\n",
       "      <td>10.0</td>\n",
       "    </tr>\n",
       "    <tr>\n",
       "      <th>Fashion accessories</th>\n",
       "      <td>9.9</td>\n",
       "    </tr>\n",
       "    <tr>\n",
       "      <th>Food and beverages</th>\n",
       "      <td>9.9</td>\n",
       "    </tr>\n",
       "    <tr>\n",
       "      <th>Health and beauty</th>\n",
       "      <td>10.0</td>\n",
       "    </tr>\n",
       "    <tr>\n",
       "      <th>Home and lifestyle</th>\n",
       "      <td>9.9</td>\n",
       "    </tr>\n",
       "    <tr>\n",
       "      <th>Sports and travel</th>\n",
       "      <td>10.0</td>\n",
       "    </tr>\n",
       "  </tbody>\n",
       "</table>\n",
       "</div>"
      ],
      "text/plain": [
       "                        Rating\n",
       "Product line                  \n",
       "Electronic accessories    10.0\n",
       "Fashion accessories        9.9\n",
       "Food and beverages         9.9\n",
       "Health and beauty         10.0\n",
       "Home and lifestyle         9.9\n",
       "Sports and travel         10.0"
      ]
     },
     "execution_count": 24,
     "metadata": {},
     "output_type": "execute_result"
    }
   ],
   "source": [
    "unique_prod_line= data.groupby([\"Product line\"])\n",
    "avg = unique_prod_line.aggregate({\"Rating\":np.max})\n",
    "avg"
   ]
  },
  {
   "cell_type": "code",
   "execution_count": null,
   "id": "b0f0e651",
   "metadata": {},
   "outputs": [],
   "source": []
  },
  {
   "cell_type": "markdown",
   "id": "14deb641",
   "metadata": {},
   "source": [
    "# 11. State the conclusion of the project based on the anal."
   ]
  },
  {
   "cell_type": "code",
   "execution_count": null,
   "id": "63decb4f",
   "metadata": {},
   "outputs": [],
   "source": []
  },
  {
   "cell_type": "markdown",
   "id": "3011f105",
   "metadata": {},
   "source": [
    "# * This dataset has three branches in three different cities .\n",
    "# * The number of customers visiting the store Gender wise is almost 50%male and 50% female .\n",
    "# *The average rating of each product line is nearer to 7.\n",
    "# *The maximum  number of items were sold in \"Fashion accessories\" category.\n",
    "# *Maximum amount were generated in Food and beverages category .\n",
    "# *Most of the customer are paying their bills through cash (35%) , and EWallet(34%) .\n",
    "# *Category wise highest rating is 10 in \"Electronic accessories\",\" Health and beauty\",\"Sports and travel\".\n"
   ]
  },
  {
   "cell_type": "code",
   "execution_count": null,
   "id": "d55b8b8e",
   "metadata": {},
   "outputs": [],
   "source": []
  },
  {
   "cell_type": "code",
   "execution_count": null,
   "id": "a9665cc0",
   "metadata": {},
   "outputs": [],
   "source": []
  },
  {
   "cell_type": "code",
   "execution_count": null,
   "id": "d924036d",
   "metadata": {},
   "outputs": [],
   "source": []
  },
  {
   "cell_type": "code",
   "execution_count": null,
   "id": "f9ecf424",
   "metadata": {},
   "outputs": [],
   "source": []
  }
 ],
 "metadata": {
  "kernelspec": {
   "display_name": "Python 3",
   "language": "python",
   "name": "python3"
  },
  "language_info": {
   "codemirror_mode": {
    "name": "ipython",
    "version": 3
   },
   "file_extension": ".py",
   "mimetype": "text/x-python",
   "name": "python",
   "nbconvert_exporter": "python",
   "pygments_lexer": "ipython3",
   "version": "3.8.8"
  }
 },
 "nbformat": 4,
 "nbformat_minor": 5
}

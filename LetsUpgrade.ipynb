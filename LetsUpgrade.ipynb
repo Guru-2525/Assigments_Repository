{
 "cells": [
  {
   "cell_type": "markdown",
   "id": "aea8b0f5",
   "metadata": {},
   "source": [
    "# Let's Upgrade ASSIGNMENT"
   ]
  },
  {
   "cell_type": "code",
   "execution_count": 37,
   "id": "03ba0bbf",
   "metadata": {},
   "outputs": [
    {
     "name": "stdout",
     "output_type": "stream",
     "text": [
      "Enter total number of participants :\n",
      "5\n",
      "Enter participant name one by one \n",
      "Guru\n",
      "Prasad\n",
      "Ravi\n",
      "Suman\n",
      "Hari\n",
      "Now the winner of this lucky draw is  Suman\n"
     ]
    }
   ],
   "source": [
    "import random\n",
    "print(\"Enter total number of participants :\")\n",
    "Total_participants = int(input())\n",
    "Participant_Names=[]\n",
    "print(\"Enter participant name one by one \")\n",
    "for i in range (Total_participants) :\n",
    "    name=input()\n",
    "    Participant_Names.append(name)\n",
    "winner=random.randint(0,Total_participants)\n",
    "print(\"Now the winner of this lucky draw is \",Participant_Names[winner])\n",
    "    "
   ]
  }
 ],
 "metadata": {
  "kernelspec": {
   "display_name": "Python 3",
   "language": "python",
   "name": "python3"
  },
  "language_info": {
   "codemirror_mode": {
    "name": "ipython",
    "version": 3
   },
   "file_extension": ".py",
   "mimetype": "text/x-python",
   "name": "python",
   "nbconvert_exporter": "python",
   "pygments_lexer": "ipython3",
   "version": "3.8.8"
  }
 },
 "nbformat": 4,
 "nbformat_minor": 5
}
